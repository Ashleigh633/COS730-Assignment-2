{
 "cells": [
  {
   "cell_type": "code",
   "execution_count": 20,
   "id": "90b704f3-cb94-4d8d-841d-05422a880b63",
   "metadata": {},
   "outputs": [],
   "source": [
    "from flask import Flask, request, jsonify\n",
    "from recommendation_system import song_recommender\n",
    "from recommendation_system import artist_recommender\n",
    "\n",
    "import warnings\n",
    "warnings.filterwarnings('ignore')\n"
   ]
  },
  {
   "cell_type": "code",
   "execution_count": 21,
   "id": "b817030f-a857-4368-be45-0709d09f242f",
   "metadata": {},
   "outputs": [],
   "source": [
    "app = Flask(__name__)"
   ]
  },
  {
   "cell_type": "code",
   "execution_count": 22,
   "id": "c6cac967-100e-4115-913d-057d54f6f3ed",
   "metadata": {},
   "outputs": [],
   "source": [
    "@app.route('/get-recommended-songs', methods=['GET'])\n",
    "def get_recommended_songs():\n",
    "    song_name = request.args.get('song_name')\n",
    "    if not song_name:\n",
    "        return jsonify({'error': 'Please provide a song name'}), 400\n",
    "    \n",
    "    recommended_songs = song_recommender(song_name)\n",
    "    if recommended_songs is None:\n",
    "        return jsonify({'error': f'Song \"{song_name}\" not found.'}), 404\n",
    "\n",
    "    # Convert DataFrame to dictionary\n",
    "    recommended_songs_dict = recommended_songs.to_dict(orient='records')\n",
    "    \n",
    "    return jsonify(recommended_songs_dict)"
   ]
  },
  {
   "cell_type": "code",
   "execution_count": null,
   "id": "13d128c6-21e3-47fe-b032-8f02d0cca6f5",
   "metadata": {},
   "outputs": [],
   "source": [
    "@app.route('/get-recommended-artists', methods=['GET'])\n",
    "def get_recommended_artists():\n",
    "    artist_name = request.args.get('artist_name')\n",
    "    if not artist_name:\n",
    "        return jsonify({'error': 'Please provide an artist name'}), 400\n",
    "    \n",
    "    recommended_artists = artist_recommender(artist_name)\n",
    "    if recommended_artists is None:\n",
    "        return jsonify({'error': f'Song \"{artist_name}\" not found.'}), 404\n",
    "\n",
    "    # Convert DataFrame to dictionary\n",
    "    recommended_artists_dict = recommended_artists.to_dict(orient='records')\n",
    "    \n",
    "    return jsonify(recommended_artists_dict)"
   ]
  },
  {
   "cell_type": "code",
   "execution_count": 23,
   "id": "900a9232-4571-4d6d-b109-01c5092417e9",
   "metadata": {},
   "outputs": [
    {
     "name": "stdout",
     "output_type": "stream",
     "text": [
      " * Serving Flask app '__main__'\n",
      " * Debug mode: on\n"
     ]
    },
    {
     "name": "stderr",
     "output_type": "stream",
     "text": [
      "WARNING: This is a development server. Do not use it in a production deployment. Use a production WSGI server instead.\n",
      " * Running on http://127.0.0.1:5000\n",
      "Press CTRL+C to quit\n",
      " * Restarting with stat\n"
     ]
    },
    {
     "ename": "SystemExit",
     "evalue": "1",
     "output_type": "error",
     "traceback": [
      "An exception has occurred, use %tb to see the full traceback.\n",
      "\u001b[1;31mSystemExit\u001b[0m\u001b[1;31m:\u001b[0m 1\n"
     ]
    }
   ],
   "source": [
    "if __name__ == '__main__':\n",
    "    app.run(debug=True)"
   ]
  },
  {
   "cell_type": "code",
   "execution_count": null,
   "id": "4273a522-c733-4688-908f-caa94e7c7318",
   "metadata": {},
   "outputs": [],
   "source": []
  }
 ],
 "metadata": {
  "kernelspec": {
   "display_name": "Python 3 (ipykernel)",
   "language": "python",
   "name": "python3"
  },
  "language_info": {
   "codemirror_mode": {
    "name": "ipython",
    "version": 3
   },
   "file_extension": ".py",
   "mimetype": "text/x-python",
   "name": "python",
   "nbconvert_exporter": "python",
   "pygments_lexer": "ipython3",
   "version": "3.10.11"
  }
 },
 "nbformat": 4,
 "nbformat_minor": 5
}
